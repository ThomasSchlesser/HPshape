{
 "cells": [
  {
   "cell_type": "code",
   "execution_count": 104,
   "metadata": {},
   "outputs": [],
   "source": [
    "import numpy as np #necessary basic tools...\n",
    "import itertools\n",
    "\n",
    "from nltk.corpus import words #training example...\n",
    "\n",
    "from PIL import Image ##imaging...\n",
    "import seaborn as sns\n",
    "import matplotlib.pyplot as plt\n",
    "\n",
    "\n",
    "\n",
    "words_list = words.words()\n",
    "words_list = [x for x in words_list if len(x) >=2]\n"
   ]
  },
  {
   "cell_type": "markdown",
   "metadata": {},
   "source": [
    "Utilitary functions:"
   ]
  },
  {
   "cell_type": "code",
   "execution_count": 105,
   "metadata": {},
   "outputs": [],
   "source": [
    "def asvoid(arr):\n",
    "    \"\"\"View the array as dtype np.void (bytes)\n",
    "    This collapses ND-arrays to 1D-arrays, so you can perform 1D operations on them.\n",
    "    https://stackoverflow.com/a/16216866/190597 (Jaime)\"\"\"    \n",
    "    arr = np.ascontiguousarray(arr)\n",
    "    return arr.view(np.dtype((np.void, arr.dtype.itemsize * arr.shape[-1])))\n",
    "\n",
    "def find_index(arr, x):\n",
    "    arr_as1d = asvoid(arr) # thank you to stack overflow (same link as above)\n",
    "    x = asvoid(x)\n",
    "    return np.nonzero(arr_as1d == x)[0]\n"
   ]
  },
  {
   "cell_type": "markdown",
   "metadata": {},
   "source": [
    "# Word Generation With N-Grams\n",
    "\n",
    "The N-Gram model gives probability distributions on strings for a given language. For example, in French, the word \"xyloqsjdfkljsdfqmskfdl\" has a smaller probablity of being a valid word than \"xylophone\". <big>How much smaller?</big> The answer to this question will enable us to create new words.\n",
    "\n",
    "### 1. The trainable model\n",
    "\n",
    "Our model will predict the likeliness of a token given the $n$ preceding tokens. Tokens could be letters or words **but an end token is needed.** In python this does not exist, so we'll have to add it at the end of strings ourselves. We will also add $n$ end-tokens at the beginning of a string, and start analyzing the string when at the first non ending character. Let $\\mathcal{T}$ be the set of tokens. Here we will make an *updateable* model, that estimates the $|\\mathcal{T}|^{n+1}$ parameters of the model. The parameters are the probability that an $n$-gram (sequence of $n$ tokens) is followed by any given token, for all tokens and for all $n$-grams. Let $f:\\mathcal{T}\\times \\mathcal{T}^{n} \\to [0,1]$ be  defined as $$\\forall t \\in \\mathcal{T}, w \\in \\mathcal{T}^n, f(t,w) := P(t | w).$$ Note that $$f(t,w)\\approx \\frac{\\char\"0023 w.t}{\\char\"0023 w},$$ where $\\char\"0023$ stands for \"the count of\", and $.$ stands for string concatenation, aka \"followed by\". This model stores the parameters as :\n",
    "\n",
    "- The raw counts of each $n+1$-gram, as a one dimensional array. \n",
    "\n",
    "Note that from the raw counts of each $n+1$-gram we can deduce the count of any $n$-gram. These two elements make it possible to reconstitute a $|\\mathcal{T}|\\times |\\mathcal{T}|^n$ matrix, containing the associated probabilities. This model will be updated with new strings.\n"
   ]
  },
  {
   "cell_type": "code",
   "execution_count": 106,
   "metadata": {},
   "outputs": [],
   "source": [
    "class Ngram:\n",
    "    def find_nplusonegram_ending_at_index(tokenized,i,n):\n",
    "        return np.array(tokenized[i-n-1:i])\n",
    "\n",
    "    def __init__(self, n,tokenizer,end_token,alphabet:list):\n",
    "        self.tokenizer = tokenizer\n",
    "        self.n = n\n",
    "        self.end_token = end_token\n",
    "        \n",
    "        self.alphabet:np.array = (np.unique(np.array(alphabet+[end_token])))# initialize alphabet as an array of all possible tokens, **including the end token**. \n",
    "\n",
    "        self.nplusone_grams:np.array = np.array(([np.array(p) for p in itertools.product(self.alphabet, repeat=self.n+1)]))# initialize all possible ngrams by using the alphabet. \n",
    "        self.raw_count_of_each_n_plus_one_gram = np.zeros((self.nplusone_grams.shape[0]),dtype=np.int64)\n",
    "\n",
    "    def tokenize(self,s:str):\n",
    "        return ([self.end_token]*self.n+self.tokenizer(s)+[self.end_token])\n",
    "        \n",
    "    def update_from_file(self,path:str):\n",
    "        ... # Extract the list, and use update_from_list\n",
    "\n",
    "    def update_from_list(self,l:list[str]):\n",
    "        # PARAM list must be a list of strings\n",
    "        for w in l:# for each string in the list, \n",
    "            t = self.tokenize(w)\n",
    "            for i in range(self.n+1,len(t)+1):# for each token in the string, starting at token index n, including the ending token,\n",
    "                nplusone_gram = Ngram.find_nplusonegram_ending_at_index(tokenized=t,i=i,n=self.n)\n",
    "                index = find_index(self.nplusone_grams,nplusone_gram)[0]\n",
    "                self.raw_count_of_each_n_plus_one_gram[index] += 1  # update the count of the corresponding nplusone-gram\n",
    "        \n",
    "\n",
    "    def n_gram_count(self, n_gram):\n",
    "        total = 0\n",
    "        for tok in self.alphabet:\n",
    "            index = find_index(self.nplusone_grams,n_gram+[tok])[0]\n",
    "            total += self.raw_count_of_each_n_plus_one_gram[index]\n",
    "        return total\n",
    "\n",
    "    def f(self,t:str,w:list[str]):\n",
    "        # t is a token\n",
    "        # w is a list of tokens\n",
    "\n",
    "        big_word_count = self.raw_count_of_each_n_plus_one_gram[find_index(self.nplusone_grams, np.array(list(w)+[t]))[0]]\n",
    "        return 0 if big_word_count==0 else big_word_count/self.n_gram_count(list(w))#estimate f(t,w) based on counts of t.w and counts of w.\n",
    "        \n"
   ]
  },
  {
   "cell_type": "markdown",
   "metadata": {},
   "source": [
    "Because we are modelizing strings as Markov chains of order $n$, we can write, for $w\\in \\mathcal{T}^m, m\\in \\mathbb{N}_{>n},$ $$P(w)=\\prod_{i=1}^m P(w_i|w_{i-n+1:i-1}).$$\n",
    "This can be used for classification, by picking the right threshold after which the probability is to low (for example, knowing the distributions, we can choose $\\alpha$ using the Neymann-Pearson lemma)."
   ]
  },
  {
   "cell_type": "code",
   "execution_count": null,
   "metadata": {},
   "outputs": [],
   "source": [
    "\n",
    "def probability(self, s:str):\n",
    "    prod = 1 # the initial product value is 1\n",
    "    tokenized = self.tokenize(s)# tokenize s.\n",
    "    for i in range(self.n,len(tokenized)+1):# for each token t in s, starting at index n, excluding the ending token,\n",
    "        t = tokenized[i]\n",
    "        if t == self.end_token:\n",
    "            break\n",
    "        w = Ngram.find_nplusonegram_ending_at_index(tokenized,i,self.n-1) # given the preceding n-gram (:=w)\n",
    "        prod *= self.f(t,w)\n",
    "    return prod\n",
    "\n",
    "Ngram.probability = probability\n",
    "\n"
   ]
  },
  {
   "cell_type": "markdown",
   "metadata": {},
   "source": [
    "The following code should now work:"
   ]
  },
  {
   "cell_type": "code",
   "execution_count": 107,
   "metadata": {},
   "outputs": [],
   "source": [
    "N = 2\n",
    "END_TOKEN = '\\x00'\n",
    "PATH_TO_STRINGS_CSV = ...\n",
    "ALPHABET = [c for c in \"abcdefghijklmnopqrstuvwxyzABCDEFGHIJKLMNOPQRSTUVWXYZ-\"]\n",
    "\n",
    "def t(s:str): #string padding will be done \n",
    "    # example tokenizer\n",
    "    l = [c for c in s] # tokenize by char\n",
    "    assert all(c in ALPHABET for c in l) # assert that the input matches the alphabet\n",
    "    return l\n",
    "\n",
    "model_fr = Ngram(n=N,tokenizer=t,end_token=END_TOKEN,alphabet=ALPHABET) # generate new model from constructor, choosing n and a tokenizer (it must also be possible to `load` a model from csv)\n",
    "\n",
    "\n",
    "model_fr.update_from_list([\"chaussettes\",\"chien\"])# train the model using a list of strings\n",
    "\n"
   ]
  },
  {
   "cell_type": "code",
   "execution_count": 108,
   "metadata": {},
   "outputs": [
    {
     "data": {
      "text/plain": [
       "0.16666666666666666"
      ]
     },
     "execution_count": 108,
     "metadata": {},
     "output_type": "execute_result"
    }
   ],
   "source": [
    "model_fr.probability(\"chien\") #afaik with N=3 without training with a big CSV file, this should be 1/2 because the probability that i follows ch is 1/2, and all other probabilities in chien are 1."
   ]
  },
  {
   "cell_type": "markdown",
   "metadata": {},
   "source": [
    "We can also define a plotting function:"
   ]
  },
  {
   "cell_type": "code",
   "execution_count": 165,
   "metadata": {},
   "outputs": [],
   "source": [
    "\n",
    "def plot(self):\n",
    "    matArr = [[self.f(w[-1],w[:-1]) for w in [i for i in self.nplusone_grams if i[-1]==t]] for t in self.alphabet]\n",
    "\n",
    "\n",
    "    fig, ax = plt.subplots(figsize=(10,10))  \n",
    "\n",
    "    labels_y = self.alphabet\n",
    "    labels_x = [w[:-1][0] for w in [i for i in self.nplusone_grams if i[-1] == \"\"]]\n",
    "\n",
    "    ax = sns.heatmap(matArr, linewidth=1,xticklabels=1,yticklabels=1,ax=ax)\n",
    "    ax.set_xlabel(\"Prefix $w$\")\n",
    "    ax.set_ylabel(\"Suffix $t$\")\n",
    "    ax.set_title(\"Probability of the $n+1$ gram $w.t$\")\n",
    "    ys = range(labels_y.shape[0])\n",
    "    def format_y(tick_val, tick_pos):\n",
    "        if int(tick_val) in ys:\n",
    "            return labels_y[int(tick_val)]\n",
    "        else:\n",
    "            return ''\n",
    "\n",
    "\n",
    "    ax.yaxis.set_major_formatter(format_y)\n",
    "\n",
    "    xs= range(len(labels_x))\n",
    "    def format_x(tick_val, tick_pos):\n",
    "        if int(tick_val) in xs:\n",
    "            return labels_x[int(tick_val)]\n",
    "        else:\n",
    "            return ''\n",
    "\n",
    "\n",
    "    ax.xaxis.set_major_formatter(format_x)\n",
    "\n",
    "    plt.show()\n",
    "\n",
    "Ngram.plot = plot"
   ]
  },
  {
   "cell_type": "markdown",
   "metadata": {},
   "source": [
    "Let us train a new model with the nltk word database by batches and show the result."
   ]
  },
  {
   "cell_type": "code",
   "execution_count": 109,
   "metadata": {},
   "outputs": [],
   "source": [
    "model_en = Ngram(n=N,tokenizer=t,end_token=END_TOKEN,alphabet=ALPHABET)\n",
    "model_en.update_from_list(words_list[:10000]) # train on all words in the English language"
   ]
  },
  {
   "cell_type": "code",
   "execution_count": 110,
   "metadata": {},
   "outputs": [],
   "source": [
    "model_en.update_from_list(words_list[10000:20000]) # train on all words in the English language"
   ]
  },
  {
   "cell_type": "code",
   "execution_count": 111,
   "metadata": {},
   "outputs": [],
   "source": [
    "model_en.update_from_list(words_list[20000:30000]) # train on all words in the English language"
   ]
  },
  {
   "cell_type": "code",
   "execution_count": 112,
   "metadata": {},
   "outputs": [],
   "source": [
    "model_en.update_from_list(words_list[30000:40000])"
   ]
  },
  {
   "cell_type": "code",
   "execution_count": 113,
   "metadata": {},
   "outputs": [],
   "source": [
    "model_en.update_from_list(words_list[40000:50000])"
   ]
  },
  {
   "cell_type": "code",
   "execution_count": 114,
   "metadata": {},
   "outputs": [],
   "source": [
    "model_en.update_from_list(words_list[50000:100000])"
   ]
  },
  {
   "cell_type": "code",
   "execution_count": 115,
   "metadata": {},
   "outputs": [],
   "source": [
    "model_en.update_from_list(words_list[100000:150000])"
   ]
  },
  {
   "cell_type": "code",
   "execution_count": 116,
   "metadata": {},
   "outputs": [],
   "source": [
    "model_en.update_from_list(words_list[150000:200000])"
   ]
  },
  {
   "cell_type": "code",
   "execution_count": 117,
   "metadata": {},
   "outputs": [],
   "source": [
    "model_en.update_from_list(words_list[200000:])"
   ]
  },
  {
   "cell_type": "code",
   "execution_count": 166,
   "metadata": {},
   "outputs": [
    {
     "data": {
      "image/png": "[encoded data removed]",
      "text/plain": [
       "<Figure size 720x720 with 2 Axes>"
      ]
     },
     "metadata": {
      "needs_background": "light"
     },
     "output_type": "display_data"
    }
   ],
   "source": [
    "model_en.plot()"
   ]
  },
  {
   "cell_type": "code",
   "execution_count": 119,
   "metadata": {},
   "outputs": [
    {
     "data": {
      "text/plain": [
       "1.2062902090706875e-14"
      ]
     },
     "execution_count": 119,
     "metadata": {},
     "output_type": "execute_result"
    }
   ],
   "source": [
    "model_en.probability(\"Jezebelish\")"
   ]
  },
  {
   "cell_type": "markdown",
   "metadata": {},
   "source": [
    "Let's now train using a CSV file."
   ]
  },
  {
   "cell_type": "code",
   "execution_count": 120,
   "metadata": {},
   "outputs": [],
   "source": [
    "model_fr.update_from_file(PATH_TO_STRINGS_CSV)# train the model using a csv file containing correct strings"
   ]
  },
  {
   "cell_type": "markdown",
   "metadata": {},
   "source": [
    "We can now implement storing and loading. Note that the following code is not as important as what comes before. If you are implementing this, what you did works ok and you don't feel like implementing stores and loads, just go to part 2."
   ]
  },
  {
   "cell_type": "code",
   "execution_count": 121,
   "metadata": {},
   "outputs": [],
   "source": [
    "PATH_TO_MODEL_JSON = ...\n",
    "\n",
    "def store(self,path:str):\n",
    "    ...#the file must contain:\n",
    "    ...# all attributes of self except tokenizer (impossible to serialize afaik)\n",
    "    # loaded models will GUESS the type of tokenization to be by-letter\n",
    "\n",
    "\n",
    "def load_from(path:str)->Ngram:\n",
    "    ...\n",
    "\n",
    "Ngram.store = store\n",
    "Ngram.load_from = load_from"
   ]
  },
  {
   "cell_type": "markdown",
   "metadata": {},
   "source": [
    "The following should now be possible:"
   ]
  },
  {
   "cell_type": "code",
   "execution_count": 122,
   "metadata": {},
   "outputs": [],
   "source": [
    "model_fr.store(PATH_TO_MODEL_JSON) # store the model in a file\n",
    "#do stuff with the model\n",
    "model_fr = Ngram.load_from(PATH_TO_MODEL_JSON) # restart the model to where it was before, from memory."
   ]
  },
  {
   "cell_type": "markdown",
   "metadata": {},
   "source": [
    "\n",
    "\n",
    "The end product of this first part is to determine the probability of any given string."
   ]
  },
  {
   "cell_type": "markdown",
   "metadata": {},
   "source": [
    "### 2. Word generation\n",
    "\n",
    "Time to generate new words! To do so, we will need strings of tokens that have their beginning padded with $n$ end-tokens. We will look at the most likely token to follow in the table obtained before.\n",
    "\n",
    "First, let us define a function that finds the most likely following token, given an $n$-gram."
   ]
  },
  {
   "cell_type": "code",
   "execution_count": 152,
   "metadata": {},
   "outputs": [],
   "source": [
    "def next_token(self, s:str):\n",
    "    alphabet = self.alphabet if len(s) >= self.n else np.delete(self.alphabet,np.where(self.alphabet==self.end_token)[0]) # we want to generate words of size at least n\n",
    "\n",
    "\n",
    "    probas = np.array([self.f(t,s[-self.n:]) for t in alphabet])\n",
    "\n",
    "    choice = np.random.choice(alphabet,p=probas)\n",
    "\n",
    "    return choice # search in self.alphabet for the token that is most likely using self.probability (you can use np.argmax, with, for t in self.alphabet, self.probability(s+t) as a function to maximize)\n",
    "\n",
    "\n",
    "\n",
    "Ngram.next_token = next_token"
   ]
  },
  {
   "cell_type": "markdown",
   "metadata": {},
   "source": [
    "Finally, we can use next_token to generate new words:"
   ]
  },
  {
   "cell_type": "code",
   "execution_count": 155,
   "metadata": {},
   "outputs": [],
   "source": [
    "def generate(self):\n",
    "    s:str = \"\".join(np.random.choice(np.delete(self.alphabet,np.where(self.alphabet==self.end_token)[0]),1)) #pick a random 1gram from self.alphabet **that is not self.end_token**. For this you can use np.random for example.\n",
    "    while True:\n",
    "        t = self.next_token(s).lower()\n",
    "        # print(f\"Found token {t}, {t==self.alphabet[np.where(self.alphabet==self.end_token)[0]]}\")\n",
    "        if t==self.alphabet[np.where(self.alphabet==self.end_token)[0]]: # if t == self.end_token, but due to numpy encodings it is written differently\n",
    "            break\n",
    "        else:\n",
    "            s += str(t)\n",
    "    return s\n",
    "\n",
    "Ngram.generate = generate\n"
   ]
  },
  {
   "cell_type": "markdown",
   "metadata": {},
   "source": [
    "Last step!"
   ]
  },
  {
   "cell_type": "code",
   "execution_count": 163,
   "metadata": {},
   "outputs": [
    {
     "data": {
      "text/plain": [
       "['Leprin',\n",
       " 'xiandvis',\n",
       " 'Haliniscreximbihe',\n",
       " 'Karcth',\n",
       " 'juatalenorbeom',\n",
       " 'hisede',\n",
       " 'acomeabary',\n",
       " 'Chminl',\n",
       " 'blantrdarigaraclariericl',\n",
       " 'Iteristed',\n",
       " 'Dhonpsaly',\n",
       " 'hesatoar',\n",
       " 'ycoglifowegrmalig',\n",
       " 'Xic',\n",
       " 'ma',\n",
       " 'rilacios',\n",
       " 'Satumyl',\n",
       " 'ym',\n",
       " 'Guisemitovethicke',\n",
       " 'Godag',\n",
       " 'Jetotheaxidoparennapat',\n",
       " 'weraraug',\n",
       " 'Anve',\n",
       " 'og',\n",
       " 'Pogn',\n",
       " 'Acly',\n",
       " 'lesa',\n",
       " 'Orct',\n",
       " 'nintech',\n",
       " 'howhyprom',\n",
       " 'dabraury',\n",
       " 'glve',\n",
       " 'g',\n",
       " 'hat',\n",
       " 'Yudatos',\n",
       " 'pene',\n",
       " 'Te',\n",
       " 'Bogans',\n",
       " 'Pobakiocosesydoprowictalgra',\n",
       " 'Grserifoclein',\n",
       " 'Itedivab',\n",
       " 'katerenthimarooaricaionicaed',\n",
       " 'Eunatelzzatere',\n",
       " 'Ateminiafine',\n",
       " 'xparochnuapsprfuse',\n",
       " 'sissy',\n",
       " 'Kariarely',\n",
       " 'Gume',\n",
       " 'pado',\n",
       " 'Tor',\n",
       " 'g',\n",
       " 'l',\n",
       " 'Oghorlletioshicr',\n",
       " 'Bretialemupher',\n",
       " 'qungligeesad',\n",
       " 'oniuroisedaurmisistare',\n",
       " 'En',\n",
       " 'Mopitexerapalicleotonteglilyp',\n",
       " 'Gontesteratequloremary',\n",
       " 'y',\n",
       " 'Scachay',\n",
       " 'Innesyhodaclios',\n",
       " 'Tatoocopitrerene',\n",
       " 'xtrargine',\n",
       " 'er',\n",
       " 'veadove',\n",
       " 'ganffetikeline',\n",
       " 'Khonathincorangr',\n",
       " 'Gncrt',\n",
       " 'Thn',\n",
       " 'Xiscklundercrerplosecosm',\n",
       " 'Qumend',\n",
       " 'qunipehomalleneriortehed',\n",
       " 'pionalun',\n",
       " 'jupaee',\n",
       " 'pll',\n",
       " 'Gry',\n",
       " 'esisimaiodly',\n",
       " 'qublrotwlephapunu',\n",
       " 'Se',\n",
       " 'erosatenridme',\n",
       " 'untintc',\n",
       " 'wote',\n",
       " 'grinostis',\n",
       " 'keronvivinckor',\n",
       " 'El',\n",
       " 'Glatrorant',\n",
       " 'Radrtotrenalvun',\n",
       " 'Dassentereep',\n",
       " 'Thitchesptueactafes',\n",
       " 'Gohativinalycckeat',\n",
       " 'Phite',\n",
       " 'hini',\n",
       " 'Unactttes',\n",
       " 'Zorely',\n",
       " 'isstoneadrerlimondenconteragudngegeuken',\n",
       " 'ponal',\n",
       " 'auliloxaknticoraromeralilous',\n",
       " 'Yogizar',\n",
       " 've']"
      ]
     },
     "execution_count": 163,
     "metadata": {},
     "output_type": "execute_result"
    }
   ],
   "source": [
    "[model_en.generate() for i in range(100)]"
   ]
  }
 ],
 "metadata": {
  "kernelspec": {
   "display_name": "Python 3.10.5 ('venv': venv)",
   "language": "python",
   "name": "python3"
  },
  "language_info": {
   "codemirror_mode": {
    "name": "ipython",
    "version": 3
   },
   "file_extension": ".py",
   "mimetype": "text/x-python",
   "name": "python",
   "nbconvert_exporter": "python",
   "pygments_lexer": "ipython3",
   "version": "3.10.5"
  },
  "orig_nbformat": 4,
  "vscode": {
   "interpreter": {
    "hash": "198d2f867f2b2890f2b4b4b250eaab6c61028a7cc43b500b1c12fee0b3f13cfc"
   }
  }
 },
 "nbformat": 4,
 "nbformat_minor": 2
}
